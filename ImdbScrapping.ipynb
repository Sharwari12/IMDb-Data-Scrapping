{
 "cells": [
  {
   "cell_type": "code",
   "execution_count": 113,
   "id": "243d3544-5ef2-4482-b71b-58cc0f98d6f8",
   "metadata": {},
   "outputs": [],
   "source": [
    "#openpyxl library used to work with Excel files in Python.\n",
    "#requests library for making HTTP requests.\n",
    "#BeautifulSoup library used for parsing HTML and XML documents.\n",
    "from bs4 import BeautifulSoup\n",
    "import requests, openpyxl\n",
    "#import pandas as pd\n",
    "#import numpy as np"
   ]
  },
  {
   "cell_type": "code",
   "execution_count": 127,
   "id": "4211ab90-8b8b-4583-8803-27600bc7fec9",
   "metadata": {},
   "outputs": [
    {
     "name": "stdout",
     "output_type": "stream",
     "text": [
      "1  The Shawshank Redemption 1994 9.3\n",
      "2  The Godfather 1972 9.2\n",
      "3  The Dark Knight 2008 9.0\n",
      "4  The Godfather Part II 1974 9.0\n",
      "5  12 Angry Men 1957 9.0\n",
      "6  Schindler's List 1993 9.0\n",
      "7  The Lord of the Rings: The Return of the King 2003 9.0\n",
      "8  Pulp Fiction 1994 8.9\n",
      "9  The Lord of the Rings: The Fellowship of the Ring 2001 8.9\n",
      "10  The Good, the Bad and the Ugly 1966 8.8\n",
      "11  Forrest Gump 1994 8.8\n",
      "12  The Lord of the Rings: The Two Towers 2002 8.8\n",
      "13  Fight Club 1999 8.8\n",
      "14  Inception 2010 8.8\n",
      "15  Star Wars: Episode V - The Empire Strikes Back 1980 8.7\n",
      "16  The Matrix 1999 8.7\n",
      "17  Goodfellas 1990 8.7\n",
      "18  One Flew Over the Cuckoo's Nest 1975 8.7\n",
      "19  Interstellar 2014 8.7\n",
      "20  Se7en 1995 8.6\n",
      "21  It's a Wonderful Life 1946 8.6\n",
      "22  Seven Samurai 1954 8.6\n",
      "23  The Silence of the Lambs 1991 8.6\n",
      "24  Saving Private Ryan 1998 8.6\n",
      "25  City of God 2002 8.6\n"
     ]
    }
   ],
   "source": [
    "#creating excel sheet\n",
    "excel = openpyxl.Workbook()\n",
    "\n",
    "#getting active sheet so that we can upload data in active sheet only\n",
    "sheet = excel.active          \n",
    "sheet.title = 'Top 25 IMDb Rated Movies'\n",
    "\n",
    "#getting names of sheet present in workbook\n",
    "#print(excel.sheetnames)\n",
    "\n",
    "#Adding the column headers to the sheet\n",
    "sheet.append(['Movie Rank','Movie Name','Release Year','IMBd Rating'])\n",
    "\n",
    "try:\n",
    "    #defining header for request with user agent (It is used to identify the browser and operating system being used by the client making the request)\n",
    "    #Defining HTTP headers to simulate a browser request\n",
    "    HEADERS = ({'User-Agent':'', 'Accept-Language': 'en-US, en;q=0.5'})\n",
    "\n",
    "    # Sending a GET request to the IMDb top movies page\n",
    "    webpage = requests.get('https://www.imdb.com/chart/top/',headers=HEADERS)\n",
    "\n",
    "    # Checking if the request was successful\n",
    "    webpage.raise_for_status()\n",
    "\n",
    "    # Parsing the page content with BeautifulSoup\n",
    "    soup = BeautifulSoup(webpage.text, \"html.parser\")\n",
    "    #print(soup)\n",
    "\n",
    "    # Finding the list of movies\n",
    "    movies = soup.find('ul',class_=\"ipc-metadata-list ipc-metadata-list--dividers-between sc-a1e81754-0 dHaCOW compact-list-view ipc-metadata-list--base\").find_all('li',class_=\"ipc-metadata-list-summary-item sc-10233bc-0 TwzGn cli-parent\")\n",
    "    #print(len(movies))\n",
    "\n",
    "    # Looping through each movie item\n",
    "    for movie in movies:\n",
    "        name = movie.find('h3',class_='ipc-title__text').text.split('.')[1]\n",
    "        rank = movie.find('h3',class_='ipc-title__text').text.split('.')[0]\n",
    "        year = movie.find('div',class_=\"sc-b189961a-7 btCcOY cli-title-metadata\").span.text\n",
    "        rating = movie.find('span',class_=\"ipc-rating-star--rating\").text\n",
    "        print(rank, name, year, rating)\n",
    "\n",
    "    # Appending the extracted data to the Excel sheet    \n",
    "        sheet.append([rank, name, year, rating])\n",
    "except Exception as e:\n",
    "    # Print any exceptions that occur during the process\n",
    "    print(e)\n",
    "\n",
    "# Saving the Excel file with the collected data\n",
    "excel.save('IMDb Top Rated Movies.xlsx')\n"
   ]
  },
  {
   "cell_type": "code",
   "execution_count": null,
   "id": "b739847c-6277-4a42-873a-b590b0f19b5d",
   "metadata": {},
   "outputs": [],
   "source": []
  }
 ],
 "metadata": {
  "kernelspec": {
   "display_name": "Python 3 (ipykernel)",
   "language": "python",
   "name": "python3"
  },
  "language_info": {
   "codemirror_mode": {
    "name": "ipython",
    "version": 3
   },
   "file_extension": ".py",
   "mimetype": "text/x-python",
   "name": "python",
   "nbconvert_exporter": "python",
   "pygments_lexer": "ipython3",
   "version": "3.12.4"
  }
 },
 "nbformat": 4,
 "nbformat_minor": 5
}
